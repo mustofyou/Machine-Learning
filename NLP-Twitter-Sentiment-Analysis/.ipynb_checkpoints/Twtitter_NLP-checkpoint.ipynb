{
 "cells": [
  {
   "cell_type": "markdown",
   "id": "e516ab94-7e1b-490a-b3c6-2ea9ff945ca0",
   "metadata": {},
   "source": [
    "# Twitter Sentiment Analysis"
   ]
  },
  {
   "cell_type": "code",
   "execution_count": null,
   "id": "b82b8615-8cf7-434c-9181-a470f4ad0175",
   "metadata": {},
   "outputs": [],
   "source": []
  },
  {
   "cell_type": "markdown",
   "id": "065d4585-abf6-4a7d-8c49-26fedc9c7286",
   "metadata": {},
   "source": [
    "In this project, i aim to apply sentiment analysis on Twitter messages. Here is the\n",
    "<a href='https://www.kaggle.com/datasets/jp797498e/twitter-entity-sentiment-analysis/data'>dataset source</a>"
   ]
  },
  {
   "cell_type": "code",
   "execution_count": null,
   "id": "16a0b16d-842c-487b-aa37-dd0f6b950a3d",
   "metadata": {},
   "outputs": [],
   "source": [
    "import pandas as pd\n",
    "import numpy as np\n",
    "from sklearn.feature_extraction.text import CountVectorizer\n",
    "from sklearn.model_selection import train_test_split\n",
    "from sklearn tree import DecisionTreeClassifier\n",
    "import re\n",
    "import nltk\n",
    "\n",
    "df = pd.read_csv('')"
   ]
  }
 ],
 "metadata": {
  "kernelspec": {
   "display_name": "Python 3 (ipykernel)",
   "language": "python",
   "name": "python3"
  },
  "language_info": {
   "codemirror_mode": {
    "name": "ipython",
    "version": 3
   },
   "file_extension": ".py",
   "mimetype": "text/x-python",
   "name": "python",
   "nbconvert_exporter": "python",
   "pygments_lexer": "ipython3",
   "version": "3.8.8"
  }
 },
 "nbformat": 4,
 "nbformat_minor": 5
}
